{
 "cells": [
  {
   "cell_type": "code",
   "execution_count": 13,
   "metadata": {},
   "outputs": [],
   "source": [
    "import pandas as pd\n",
    "import numpy as np"
   ]
  },
  {
   "cell_type": "code",
   "execution_count": 14,
   "metadata": {},
   "outputs": [],
   "source": [
    "df = pd.read_excel(\"eleyo_files/missiongraduates_sacc_invoice_details_breakdown_08-13-2024_11-25_17235735371076493.xlsx\")"
   ]
  },
  {
   "cell_type": "code",
   "execution_count": 15,
   "metadata": {},
   "outputs": [],
   "source": [
    "#From rate\n",
    "keyword_to_school = {\n",
    "    \"Alvarado\": \"Alvarado Elementary School\",\n",
    "    \"Bryant\": \"Bryant Elementary School\",\n",
    "    \"Everett\": \"Everett Beacon Middle School\",\n",
    "    \"Flynn\": \"Flynn Elementary School\",\n",
    "    \"Marshall\": \"Marshall Elementary School\",\n",
    "    \"Sanchez\": \"Sanchez Elementary School\",\n",
    "    \"TECA\": \"Thomas Edison Charter Academy\",\n",
    "    \"Bessie\": \"Bessie Carmichael Beacon TK-8\",\n",
    "    \"Cleveland\": \"Cleveland Elementary School\"\n",
    "}\n",
    "def find_substring_in_rate(rate):\n",
    "    matches = [keyword_to_school[keyword] for keyword in keyword_to_school if keyword in rate]\n",
    "    if len(matches) > 1:\n",
    "        print(f\"Error: Multiple matches found in row with Rate '{rate}': {matches}\")\n",
    "        return np.nan\n",
    "    elif len(matches) == 1:\n",
    "        return matches[0]\n",
    "    return np.nan"
   ]
  },
  {
   "cell_type": "code",
   "execution_count": 16,
   "metadata": {},
   "outputs": [],
   "source": [
    "df['Site_Filled'] = df['Rate'].apply(lambda rate: find_substring_in_rate(str(rate)))"
   ]
  },
  {
   "cell_type": "code",
   "execution_count": 17,
   "metadata": {},
   "outputs": [],
   "source": [
    "#Copy over site column\n",
    "df['Site_Filled'] = df.apply(lambda row: row['Site'] if pd.notna(row['Site']) else row['Site_Filled'], axis=1)"
   ]
  },
  {
   "cell_type": "code",
   "execution_count": 18,
   "metadata": {},
   "outputs": [],
   "source": [
    "#By name\n",
    "def reverse_name(name):\n",
    "    if ',' in name:\n",
    "        parts = name.split(',', 1)\n",
    "        return ' '.join(part.strip() for part in reversed(parts))\n",
    "    return name\n",
    "\n",
    "def extract_after_for(text):\n",
    "    return text.split('for ', 1)[1].strip() if 'for ' in text else text\n",
    "\n",
    "def process_user(user, rate):\n",
    "    if pd.isna(user):\n",
    "        return user\n",
    "    \n",
    "    if not isinstance(user, str):\n",
    "        return user\n",
    "    if 'and' in user.lower():\n",
    "        if isinstance(rate, str) and 'Prorate' in rate and 'to' in rate:\n",
    "            return user\n",
    "        if isinstance(rate, str) and 'Prorate' in rate:\n",
    "            return extract_after_for(rate)\n",
    "    if ', and' in user.lower():\n",
    "        return \"\"\n",
    "    else:\n",
    "        return reverse_name(user)\n",
    "\n",
    "\n",
    "# Assuming you have a DataFrame called 'df' with columns 'user' and 'rate'\n",
    "# If not, you can create one like this:\n",
    "# df = pd.DataFrame({\n",
    "#     'user': ['Smith, John', 'Jane Doe and Jack Doe', 'Brown, Robert A.', 'Alice Johnson and Bob Johnson'],\n",
    "#     'rate': ['Regular', 'Prorate - 75%', 'Prorate - 50%', 'Regular']\n",
    "# })\n",
    "\n",
    "# Apply the function to the DataFrame\n",
    "df['processed_user'] = df.apply(lambda row: process_user(row['User'], row['Rate']), axis=1)"
   ]
  },
  {
   "cell_type": "code",
   "execution_count": null,
   "metadata": {},
   "outputs": [],
   "source": []
  },
  {
   "cell_type": "code",
   "execution_count": 19,
   "metadata": {},
   "outputs": [],
   "source": [
    "# Assuming you have a DataFrame 'df' with columns 'processed_user' and 'Site'\n",
    "# If not, you can create a sample one like this:\n",
    "# df = pd.DataFrame({\n",
    "#     'processed_user': ['John Smith', 'Jane Doe', 'John Smith', 'Alice Johnson'],\n",
    "#     'Site': ['Site A', 'Site B', 'Site C', 'Site A']\n",
    "# })\n",
    "\n",
    "def create_user_site_dict(df):\n",
    "    user_site_dict = {}\n",
    "    \n",
    "    for _, row in df.iterrows():\n",
    "        user = row['processed_user']\n",
    "        site = row['Site_Filled']\n",
    "        \n",
    "        if pd.isna(user):\n",
    "            continue\n",
    "        if pd.isna(site):\n",
    "            continue\n",
    "        if user not in user_site_dict:\n",
    "            user_site_dict[user] = []\n",
    "        \n",
    "        if site not in user_site_dict[user]:\n",
    "            user_site_dict[user].append(site)\n",
    "    \n",
    "    return user_site_dict\n",
    "\n",
    "# Create the dictionary\n",
    "user_to_sites = create_user_site_dict(df)"
   ]
  },
  {
   "cell_type": "code",
   "execution_count": 20,
   "metadata": {},
   "outputs": [
    {
     "name": "stdout",
     "output_type": "stream",
     "text": [
      "{'': ['Flynn Elementary School', 'Bryant Elementary School', 'Alvarado Elementary School', 'Bessie Carmichael Beacon TK-8', 'Sanchez Elementary School', 'Thomas Edison Charter Academy', 'Cleveland Elementary School', 'Marshall Elementary School', 'Everett Beacon Middle School'], 'Avery Farr': ['Alvarado Elementary School', 'Marshall Elementary School'], 'Flynn McKernan': ['Alvarado Elementary School', 'Flynn Elementary School'], 'Edwin Steven Alarcon linares and Dylan Geovany Alarcon linares': ['Everett Beacon Middle School', 'Sanchez Elementary School'], 'Josue Lopez': ['Alvarado Elementary School', 'Everett Beacon Middle School'], 'Keila Sarai Berrios and Esteban Asael Lainez': ['Sanchez Elementary School', 'Everett Beacon Middle School'], 'Natany sofia aguilera and Margaret G Caldas': ['Alvarado Elementary School', 'Everett Beacon Middle School'], 'Isabella Lucia Luna': ['Alvarado Elementary School', 'Marshall Elementary School'], 'Ixchel Carrio and Malila Carrio': ['Marshall Elementary School', 'Everett Beacon Middle School'], 'Katherinne Fabiola Ortiz and Jason Gabriel Marquez Ortiz': ['Sanchez Elementary School', 'Everett Beacon Middle School'], 'Sarabi Jael Herrera Hernandez and Rony García': ['Sanchez Elementary School', 'Everett Beacon Middle School'], 'Enzo Gonzalez Dutra': ['Alvarado Elementary School', 'Bryant Elementary School'], 'Freddy Santizo and Josue Santizo Orellana': ['Marshall Elementary School', 'Everett Beacon Middle School'], 'Alisson Nohemy Guardado Abrego and Melkin Dominic Guardado Abrego': ['Marshall Elementary School', 'Everett Beacon Middle School'], 'Alba Lila Aguilar Vega': ['Alvarado Elementary School', 'Cleveland Elementary School'], 'Joaquin Farrell Bonner Sanchez': ['Sanchez Elementary School', 'Flynn Elementary School'], 'Joaquin Farrell Bonner Sanchez and Julieta Victoria Bonner Sanchez': ['Sanchez Elementary School', 'Flynn Elementary School'], 'Camila Patricia Caliz Gonzalez': ['Alvarado Elementary School', 'Marshall Elementary School'], 'Jose Ildefonso Perez and Julio Ildefonso Perez': ['Everett Beacon Middle School', 'Marshall Elementary School'], 'Samantha Georgopoulos and Oliver Georgopoulos': ['Everett Beacon Middle School', 'Sanchez Elementary School'], 'True Sonte Brown': ['Sanchez Elementary School', 'Marshall Elementary School'], 'Victor Jose Rincon Sanchez and Adan Rincon Sanchez': ['Sanchez Elementary School', 'Everett Beacon Middle School'], 'Aiden Hasberry Wilson': ['Alvarado Elementary School', 'Bessie Carmichael Beacon TK-8'], 'Hermita Lucero Garcia Juarez and Linda Estrella Garcia Juarez': ['Bryant Elementary School', 'Sanchez Elementary School'], 'Hermita Lucero Garcia Juarez': ['Bryant Elementary School', 'Sanchez Elementary School'], 'Linda Estrella Garcia Juarez': ['Bryant Elementary School', 'Sanchez Elementary School'], 'Cristhian Carcamo and Destiny Carcamo': ['Sanchez Elementary School', 'Everett Beacon Middle School'], 'Azaiah Conan Silva Curameng': ['Alvarado Elementary School', 'Bessie Carmichael Beacon TK-8'], 'Valentina Gonzalez Gonzalez': ['Alvarado Elementary School', 'Sanchez Elementary School']}\n"
     ]
    }
   ],
   "source": [
    "filtered_dict = {key: value for key, value in user_to_sites.items() if len(value) > 1}\n",
    "\n",
    "# Output the filtered dictionary\n",
    "print(filtered_dict)"
   ]
  },
  {
   "cell_type": "code",
   "execution_count": 21,
   "metadata": {},
   "outputs": [],
   "source": [
    "# Function to look up site in the dictionary\n",
    "def lookup_site(user):\n",
    "    site = user_to_sites.get(user, np.nan)\n",
    "    if isinstance(site, list) and len(site) == 1:\n",
    "        return site[0]  # Return the single site in the list\n",
    "    return np.nan  # Return NaN if the list has more than one element or if no entry is found\n",
    "\n",
    "# Check if 'Site_Filled' exists\n",
    "if 'Site_Filled' not in df.columns:\n",
    "    raise ValueError(\"The 'Site_Filled' column does not exist in the DataFrame.\")\n",
    "\n",
    "# Fill 'Site_Filled' using the dictionary only if it is currently NaN\n",
    "df['Site_Filled'] = df.apply(\n",
    "    lambda row: row['Site_Filled'] if pd.notna(row['Site_Filled']) else lookup_site(row['processed_user']),\n",
    "    axis=1\n",
    ")"
   ]
  },
  {
   "cell_type": "code",
   "execution_count": 22,
   "metadata": {},
   "outputs": [
    {
     "name": "stdout",
     "output_type": "stream",
     "text": [
      "Error: Multiple sites found for users 'Liliana Nicita, Gabriela J NICITA, and Liliana J NICITA': [[], []]\n",
      "Error: Multiple sites found for users 'Liliana Nicita, Gabriela J NICITA, and Liliana J NICITA': [[], []]\n",
      "Error: Multiple sites found for users 'Natany sofia aguilera and Margaret G Caldas': [['Everett Beacon Middle School'], ['Alvarado Elementary School']]\n",
      "Error: Multiple sites found for users 'Sarabi Jael Herrera Hernandez and Rony García': [['Everett Beacon Middle School'], ['Sanchez Elementary School']]\n",
      "Error: Multiple sites found for users 'Samantha Georgopoulos and Oliver Georgopoulos': [['Everett Beacon Middle School'], ['Sanchez Elementary School']]\n",
      "Error: Multiple sites found for users 'Samantha Georgopoulos and Oliver Georgopoulos': [['Everett Beacon Middle School'], ['Sanchez Elementary School']]\n",
      "Error: Multiple sites found for users 'Hermita Lucero Garcia Juarez and Linda Estrella Garcia Juarez': [['Bryant Elementary School', 'Sanchez Elementary School'], ['Bryant Elementary School', 'Sanchez Elementary School']]\n",
      "Error: Multiple sites found for users 'Hermita Lucero Garcia Juarez and Linda Estrella Garcia Juarez': [['Bryant Elementary School', 'Sanchez Elementary School'], ['Bryant Elementary School', 'Sanchez Elementary School']]\n"
     ]
    }
   ],
   "source": [
    "def process_user(user, site_filled):\n",
    "    if pd.isna(user):\n",
    "        return site_filled\n",
    "    \n",
    "    if not(pd.isna(site_filled)):\n",
    "        return site_filled\n",
    "    \n",
    "    user_str = str(user)\n",
    "    \n",
    "    if \" and \" in user_str:\n",
    "        users = user_str.split(\" and \")\n",
    "        sites = [user_to_sites.get(u, []) for u in users]\n",
    "        \n",
    "        # If one site is found and the other is empty, return the valid site\n",
    "        if len(sites[0]) == 1 and not sites[1]:\n",
    "            return sites[0][0]\n",
    "        elif len(sites[1]) == 1 and not sites[0]:\n",
    "            return sites[1][0]\n",
    "        elif len(sites[0]) == 1 and len(sites[1]) == 1 and sites[0] == sites[1]:\n",
    "            if pd.isna(site_filled):\n",
    "                return sites[0][0]\n",
    "        else:\n",
    "            print(f\"Error: Multiple sites found for users '{user}': {sites}\")\n",
    "            return np.nan\n",
    "    else:\n",
    "        site = user_to_sites.get(user_str, np.nan)\n",
    "        if isinstance(site, list) and len(site) == 1:\n",
    "            return site[0]  # Return the single site in the list\n",
    "    return site_filled  # Return original value if no match or conditions are met\n",
    "\n",
    "# Apply the function to the DataFrame\n",
    "df['Site_Filled'] = df.apply(\n",
    "    lambda row: process_user(row['processed_user'], row['Site_Filled']),\n",
    "    axis=1\n",
    ")"
   ]
  },
  {
   "cell_type": "code",
   "execution_count": 23,
   "metadata": {},
   "outputs": [],
   "source": []
  },
  {
   "cell_type": "code",
   "execution_count": null,
   "metadata": {},
   "outputs": [],
   "source": []
  }
 ],
 "metadata": {
  "kernelspec": {
   "display_name": "Python 3",
   "language": "python",
   "name": "python3"
  },
  "language_info": {
   "codemirror_mode": {
    "name": "ipython",
    "version": 3
   },
   "file_extension": ".py",
   "mimetype": "text/x-python",
   "name": "python",
   "nbconvert_exporter": "python",
   "pygments_lexer": "ipython3",
   "version": "3.9.6"
  }
 },
 "nbformat": 4,
 "nbformat_minor": 2
}
