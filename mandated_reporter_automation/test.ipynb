{
 "cells": [
  {
   "cell_type": "code",
   "execution_count": 3,
   "metadata": {},
   "outputs": [],
   "source": [
    "from selenium import webdriver\n",
    "from selenium.webdriver.common.by import By\n",
    "from selenium.webdriver.common.keys import Keys\n",
    "from selenium.webdriver.support.ui import WebDriverWait\n",
    "from selenium.webdriver import ActionChains\n",
    "import time\n",
    "from selenium.webdriver.support import expected_conditions as EC\n",
    "from selenium.webdriver.chrome.options import Options\n",
    "\n",
    "chrome_options = Options()\n",
    "chrome_prefs = {\n",
    "\n",
    "    \"download.prompt_for_download\": False,\n",
    "    \"profile.default_content_settings.popups\": 0,\n",
    "    \"safebrowsing.enabled\": True\n",
    "}\n",
    "chrome_options.add_experimental_option(\"prefs\", chrome_prefs)\n",
    "# For this example, I'll assume you're using Chrome\n",
    "driver = webdriver.Chrome(options=chrome_options)\n",
    "# Open the URL\n",
    "driver.get('https://account.mandatedreportertraining.com/')\n",
    "# Allow the page to load\n",
    "time.sleep(2)\n",
    "# Find the email input field by XPath and input the username\n",
    "username_field = driver.find_element(By.XPATH, '//*[@id=\"mat-input-0\"]')\n",
    "username_field.send_keys('nngui@missiongraduates.org')\n",
    "password_field =  driver.find_element(By.XPATH, '//*[@id=\"mat-input-1\"]')\n",
    "password_field.send_keys('Badabingbadaboom!00')\n",
    "\n",
    "submit_button = driver.find_element(By.XPATH, '/html/body/app-root/app-blank/div[2]/div/mat-sidenav-container/mat-sidenav-content/app-login/div/div/div/div/div[1]/div/div/div/form/div[3]/button')\n",
    "submit_button.click()\n",
    "wait = WebDriverWait(driver, 20)"
   ]
  },
  {
   "cell_type": "code",
   "execution_count": 3,
   "metadata": {},
   "outputs": [],
   "source": [
    "options = webdriver.ChromeOptions()\n",
    "#options.add_argument(\"--headless\")  # Comment this line to see the browser\n",
    "options.add_argument(\"--no-sandbox\")\n",
    "options.add_argument(\"--disable-dev-shm-usage\")\n",
    "\n",
    "# Initialize WebDriver\n",
    "driver = webdriver.Chrome(service=Service(ChromeDriverManager().install()), options=options)\n",
    "\n",
    "url = \"https://account.mandatedreportertraining.com/groups\"\n",
    "# Visit the specified URL\n",
    "driver.get(url)\n",
    "time.sleep(2)  # Wait for the page to load\n",
    "\n",
    "\n",
    "# Input the email address"
   ]
  },
  {
   "cell_type": "code",
   "execution_count": 4,
   "metadata": {},
   "outputs": [],
   "source": [
    "email_field = driver.find_element(By.CSS_SELECTOR, \"#mat-input-0\")\n",
    "email = \"nngui@missiongraduates.org\"\n",
    "email_field.send_keys(email)"
   ]
  },
  {
   "cell_type": "code",
   "execution_count": null,
   "metadata": {},
   "outputs": [],
   "source": [
    "pw_field = driver.find_element(By.CSS_SELECTOR, \"#mat-input-1\")\n",
    "pw = \"Badabingbadaboom!00\"\n",
    "pw_field.send_keys(email)"
   ]
  },
  {
   "cell_type": "code",
   "execution_count": 6,
   "metadata": {},
   "outputs": [],
   "source": [
    "button = driver.find_element(By.CSS_SELECTOR, \"#scrolldiv > div > div.flex-grow > app-user-groups > div > app-grid-template > div > mat-toolbar > div > div > div:nth-child(1) > a > mat-icon\")\n",
    "\n",
    "# Scroll into view if necessary (optional, depends on visibility of the element)\n",
    "ActionChains(driver).move_to_element(button).perform()\n",
    "\n",
    "# Click the button\n",
    "button.click()"
   ]
  },
  {
   "cell_type": "code",
   "execution_count": null,
   "metadata": {},
   "outputs": [],
   "source": [
    "p_field = driver.find_element(By.CSS_SELECTOR, \"#mat-input-1\")\n",
    "pw = \"Badabingbadaboom!00\"\n",
    "pw_field.send_keys(email)"
   ]
  },
  {
   "cell_type": "code",
   "execution_count": null,
   "metadata": {},
   "outputs": [],
   "source": []
  }
 ],
 "metadata": {
  "kernelspec": {
   "display_name": "mandated",
   "language": "python",
   "name": "python3"
  },
  "language_info": {
   "codemirror_mode": {
    "name": "ipython",
    "version": 3
   },
   "file_extension": ".py",
   "mimetype": "text/x-python",
   "name": "python",
   "nbconvert_exporter": "python",
   "pygments_lexer": "ipython3",
   "version": "3.13.0"
  }
 },
 "nbformat": 4,
 "nbformat_minor": 2
}
