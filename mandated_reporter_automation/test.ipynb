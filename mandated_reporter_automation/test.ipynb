{
 "cells": [
  {
   "cell_type": "code",
   "execution_count": 1,
   "metadata": {},
   "outputs": [],
   "source": [
    "from selenium import webdriver\n",
    "from selenium.webdriver.common.by import By\n",
    "from selenium.webdriver.common.keys import Keys\n",
    "from selenium.webdriver.support.ui import WebDriverWait\n",
    "from selenium.webdriver import ActionChains\n",
    "import time\n",
    "from selenium.webdriver.support import expected_conditions as EC\n",
    "from selenium.webdriver.chrome.options import Options\n",
    "\n",
    "chrome_options = Options()\n",
    "chrome_prefs = {\n",
    "\n",
    "    \"download.prompt_for_download\": False,\n",
    "    \"profile.default_content_settings.popups\": 0,\n",
    "    \"safebrowsing.enabled\": True\n",
    "}\n",
    "chrome_options.add_experimental_option(\"prefs\", chrome_prefs)\n",
    "# For this example, I'll assume you're using Chrome\n",
    "driver = webdriver.Chrome(options=chrome_options)\n",
    "# Open the URL\n",
    "driver.get('https://account.mandatedreportertraining.com/')\n",
    "# Allow the page to load\n",
    "time.sleep(2)\n",
    "# Find the email input field by XPath and input the username\n",
    "username_field = driver.find_element(By.XPATH, '//*[@id=\"mat-input-0\"]')\n",
    "username_field.send_keys('nngui@missiongraduates.org')\n",
    "password_field =  driver.find_element(By.XPATH, '//*[@id=\"mat-input-1\"]')\n",
    "password_field.send_keys('Badabingbadaboom!00')\n",
    "\n",
    "submit_button = driver.find_element(By.XPATH, '/html/body/app-root/app-blank/div[2]/div/mat-sidenav-container/mat-sidenav-content/app-login/div/div/div/div/div[1]/div/div/div/form/div[3]/button')\n",
    "submit_button.click()\n",
    "wait = WebDriverWait(driver, 20)"
   ]
  },
  {
   "cell_type": "code",
   "execution_count": 2,
   "metadata": {},
   "outputs": [],
   "source": [
    "reports = wait.until(EC.visibility_of_element_located((By.XPATH,'//*[@id=\"snav\"]/div/app-sidebar/mat-nav-list/mat-list-item[5]/span/a/span[1]')))\n",
    "reports.click()"
   ]
  },
  {
   "cell_type": "code",
   "execution_count": 3,
   "metadata": {},
   "outputs": [],
   "source": [
    "reports = wait.until(EC.visibility_of_element_located((By.XPATH,'//*[@id=\"snav\"]/div/app-sidebar/mat-nav-list/mat-list-item[5]/span/mat-nav-list/mat-list-item[1]/span/a')))\n",
    "reports.click()"
   ]
  },
  {
   "cell_type": "code",
   "execution_count": 4,
   "metadata": {},
   "outputs": [],
   "source": [
    "reports = wait.until(EC.visibility_of_element_located((By.XPATH,'//*[@id=\"mat-select-2\"]/div/div[2]')))\n",
    "reports.click()"
   ]
  },
  {
   "cell_type": "code",
   "execution_count": 5,
   "metadata": {},
   "outputs": [],
   "source": [
    "reports = wait.until(EC.visibility_of_element_located((By.XPATH,'//*[@id=\"mat-option-3\"]/span')))\n",
    "reports.click()"
   ]
  },
  {
   "cell_type": "code",
   "execution_count": 6,
   "metadata": {},
   "outputs": [],
   "source": [
    "reports = wait.until(EC.visibility_of_element_located((By.XPATH,'//*[@id=\"scrolldiv\"]/div/div[2]/app-batch-assign-training/div/form/div[2]/a/mat-icon')))\n",
    "reports.click()"
   ]
  },
  {
   "cell_type": "code",
   "execution_count": 7,
   "metadata": {},
   "outputs": [],
   "source": [
    "a = ['1201ariana@gmail.com', 'aagustin@missiongraduates.org','nngui@missiongraduates.org']"
   ]
  },
  {
   "cell_type": "code",
   "execution_count": 8,
   "metadata": {},
   "outputs": [],
   "source": [
    "import openpyxl\n",
    "file_path = \"input/input.xlsx\"  # Replace with your file path\n",
    "workbook = openpyxl.load_workbook(file_path)\n",
    "sheet = workbook.active  # Selects the first (active) sheet\n",
    "\n",
    "# Extract values from column A (excluding header)\n",
    "emails = [cell.value for cell in sheet['A'][1:] if cell.value is not None]"
   ]
  },
  {
   "cell_type": "code",
   "execution_count": 9,
   "metadata": {},
   "outputs": [
    {
     "name": "stdout",
     "output_type": "stream",
     "text": [
      "No reports found for: langelcolmenares@missiongraduates.org\n",
      "No reports found for: swashington@missiongraduates.org\n",
      "No reports found for: nmarcelagomez@missiongraduates.org\n",
      "No reports found for: jramirez@missiongraduates.org\n",
      "No reports found for: ctorres-leanos@missiongraduates.org\n",
      "No reports found for: janderson@missiongraduates.org\n",
      "No reports found for: jmundell@missiongraduates.org\n",
      "No reports found for: alhernandez@missiongraduates.org\n",
      "No reports found for: christopher@missiongraduates.org\n",
      "No reports found for: ecastanon@missiongraduates.org\n",
      "No reports found for: asanchez@missiongraduates.org\n"
     ]
    }
   ],
   "source": [
    "from selenium.webdriver.support.ui import WebDriverWait\n",
    "from selenium.webdriver.support import expected_conditions as EC\n",
    "from selenium.webdriver.common.by import By\n",
    "from selenium.common.exceptions import TimeoutException\n",
    "\n",
    "short_wait = WebDriverWait(driver, 2)  # Timeout set to 2 seconds\n",
    "\n",
    "for email in emails:\n",
    "    # Clear and re-locate the search field\n",
    "    search_field = driver.find_element(By.XPATH, '//*[@id=\"mat-input-3\"]')\n",
    "    search_field.clear()\n",
    "    search_field.send_keys(email)\n",
    "    time.sleep(1)  # Short delay for input processing\n",
    "\n",
    "    try:\n",
    "        # Wait up to 2 seconds for the reports element to appear\n",
    "        reports = short_wait.until(EC.visibility_of_element_located(\n",
    "            (By.XPATH, '//*[@id=\"mat-mdc-dialog-0\"]/div/div/app-select-learner-emails/app-modal-layout/div/div[2]/div[1]/div/div[1]/div/div/button')\n",
    "        ))\n",
    "        reports.click()\n",
    "    except TimeoutException:\n",
    "        # If the element does not appear in 2 seconds, skip to the next email\n",
    "        print(f\"No reports found for: {email}\")\n",
    "        with open(\"peoplenotfound.txt\", \"a\") as file:\n",
    "            file.write(f\"No reports found for: {email}\\n\")\n",
    "        continue\n",
    "    \n",
    "    # Clear search field for the next email\n",
    "    search_field = driver.find_element(By.XPATH, '//*[@id=\"mat-input-3\"]')\n",
    "    search_field.clear()"
   ]
  },
  {
   "cell_type": "code",
   "execution_count": 16,
   "metadata": {},
   "outputs": [],
   "source": []
  },
  {
   "cell_type": "code",
   "execution_count": null,
   "metadata": {},
   "outputs": [],
   "source": []
  }
 ],
 "metadata": {
  "kernelspec": {
   "display_name": "mandated",
   "language": "python",
   "name": "python3"
  },
  "language_info": {
   "codemirror_mode": {
    "name": "ipython",
    "version": 3
   },
   "file_extension": ".py",
   "mimetype": "text/x-python",
   "name": "python",
   "nbconvert_exporter": "python",
   "pygments_lexer": "ipython3",
   "version": "3.13.0"
  }
 },
 "nbformat": 4,
 "nbformat_minor": 2
}
