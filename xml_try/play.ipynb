{
 "cells": [
  {
   "cell_type": "code",
   "execution_count": 3,
   "metadata": {},
   "outputs": [
    {
     "name": "stdout",
     "output_type": "stream",
     "text": [
      "Data has been written to output.xlsx\n"
     ]
    }
   ],
   "source": [
    "import os\n",
    "import xml.etree.ElementTree as ET\n",
    "import pandas as pd\n",
    "\n",
    "# Folder containing the XML files\n",
    "folder_path = 'xml_invoice_report_8_23'\n",
    "\n",
    "# List to store data\n",
    "data = []\n",
    "\n",
    "# Process each XML file in the folder\n",
    "for filename in os.listdir(folder_path):\n",
    "    if filename.endswith('.xml') and '$' not in filename:\n",
    "        file_path = os.path.join(folder_path, filename)\n",
    "        \n",
    "        try:\n",
    "            tree = ET.parse(file_path)\n",
    "            root = tree.getroot()\n",
    "\n",
    "            # Iterate through each 'part' in the XML\n",
    "            for part in root.findall('part'):\n",
    "                # Initialize dictionary for each row\n",
    "                row = {\n",
    "                    'filename': filename,\n",
    "                    'date': part.findtext('date', default='N/A'),\n",
    "                    'group': part.findtext('group', default='N/A'),\n",
    "                    'group-id': part.findtext('group-id', default='N/A'),\n",
    "                    'description': part.findtext('description', default='N/A'),\n",
    "                    'amount': part.findtext('amount', default='N/A'),\n",
    "                    'days': part.findtext('days', default='N/A'),\n",
    "                    'group-two': part.findtext('group-two', default='N/A'),\n",
    "                    'start-date': part.findtext('start-date', default='N/A'),\n",
    "                    'end-date': part.findtext('end-date', default='N/A'),\n",
    "                    'site': part.findtext('site', default='N/A'),\n",
    "                    'rate': part.findtext('rate', default='N/A')\n",
    "                }\n",
    "\n",
    "                # Append the row to the data list\n",
    "                data.append(row)\n",
    "        \n",
    "        except ET.ParseError as e:\n",
    "            print(f\"Error parsing {filename}: {e}\")\n",
    "        except Exception as e:\n",
    "            print(f\"Unexpected error with {filename}: {e}\")\n",
    "\n",
    "# Convert data list to DataFrame\n",
    "df = pd.DataFrame(data)\n",
    "\n",
    "# Save the DataFrame to an Excel file\n",
    "output_file = 'output.xlsx'\n",
    "df.to_excel(output_file, index=False)\n",
    "\n",
    "print(f'Data has been written to {output_file}')\n"
   ]
  },
  {
   "cell_type": "code",
   "execution_count": null,
   "metadata": {},
   "outputs": [],
   "source": []
  }
 ],
 "metadata": {
  "kernelspec": {
   "display_name": "Python 3",
   "language": "python",
   "name": "python3"
  },
  "language_info": {
   "codemirror_mode": {
    "name": "ipython",
    "version": 3
   },
   "file_extension": ".py",
   "mimetype": "text/x-python",
   "name": "python",
   "nbconvert_exporter": "python",
   "pygments_lexer": "ipython3",
   "version": "3.9.6"
  }
 },
 "nbformat": 4,
 "nbformat_minor": 2
}
